{
 "cells": [
  {
   "cell_type": "code",
   "execution_count": 1,
   "id": "2625474f-5b17-4c64-99af-14aff99f1b23",
   "metadata": {},
   "outputs": [],
   "source": [
    "#Name: Mark McAfoose\n",
    "#Student ID: 801149826\n",
    "#Homework 2\n",
    "#Github Link\n"
   ]
  },
  {
   "cell_type": "code",
   "execution_count": 2,
   "id": "96f9c97e-7253-4577-8cda-c7019fe35f9e",
   "metadata": {},
   "outputs": [],
   "source": [
    "import numpy as np\n",
    "import pandas as pd\n",
    "import matplotlib.pyplot as plt\n",
    "from sklearn.preprocessing import StandardScaler\n",
    "from sklearn.datasets import load_iris\n",
    "from sklearn.linear_model import LogisticRegression\n",
    "from sklearn import metrics\n",
    "import seaborn as sns\n",
    "import warnings\n",
    "from sklearn.naive_bayes import GaussianNB\n",
    "from sklearn.metrics import confusion_matrix\n",
    "from sklearn.model_selection import KFold\n",
    "from sklearn.model_selection import cross_val_score\n",
    "from sklearn.model_selection import cross_validate\n",
    "from sklearn.metrics import make_scorer, accuracy_score, precision_score, recall_score\n",
    "from numpy import mean\n",
    "#Alot of this stuff probably isn't needed up here, I just added them as I was figuring out my code and didn't want to delete them in case it messed something up"
   ]
  },
  {
   "cell_type": "code",
   "execution_count": 3,
   "id": "c6b12cfd-6f86-4d34-9b31-0be75a395995",
   "metadata": {},
   "outputs": [
    {
     "data": {
      "text/html": [
       "<div>\n",
       "<style scoped>\n",
       "    .dataframe tbody tr th:only-of-type {\n",
       "        vertical-align: middle;\n",
       "    }\n",
       "\n",
       "    .dataframe tbody tr th {\n",
       "        vertical-align: top;\n",
       "    }\n",
       "\n",
       "    .dataframe thead th {\n",
       "        text-align: right;\n",
       "    }\n",
       "</style>\n",
       "<table border=\"1\" class=\"dataframe\">\n",
       "  <thead>\n",
       "    <tr style=\"text-align: right;\">\n",
       "      <th></th>\n",
       "      <th>Pregnancies</th>\n",
       "      <th>Glucose</th>\n",
       "      <th>BloodPressure</th>\n",
       "      <th>SkinThickness</th>\n",
       "      <th>Insulin</th>\n",
       "      <th>BMI</th>\n",
       "      <th>DiabetesPedigreeFunction</th>\n",
       "      <th>Age</th>\n",
       "      <th>Outcome</th>\n",
       "    </tr>\n",
       "  </thead>\n",
       "  <tbody>\n",
       "    <tr>\n",
       "      <th>0</th>\n",
       "      <td>6</td>\n",
       "      <td>148</td>\n",
       "      <td>72</td>\n",
       "      <td>35</td>\n",
       "      <td>0</td>\n",
       "      <td>33.6</td>\n",
       "      <td>0.627</td>\n",
       "      <td>50</td>\n",
       "      <td>1</td>\n",
       "    </tr>\n",
       "    <tr>\n",
       "      <th>1</th>\n",
       "      <td>1</td>\n",
       "      <td>85</td>\n",
       "      <td>66</td>\n",
       "      <td>29</td>\n",
       "      <td>0</td>\n",
       "      <td>26.6</td>\n",
       "      <td>0.351</td>\n",
       "      <td>31</td>\n",
       "      <td>0</td>\n",
       "    </tr>\n",
       "    <tr>\n",
       "      <th>2</th>\n",
       "      <td>8</td>\n",
       "      <td>183</td>\n",
       "      <td>64</td>\n",
       "      <td>0</td>\n",
       "      <td>0</td>\n",
       "      <td>23.3</td>\n",
       "      <td>0.672</td>\n",
       "      <td>32</td>\n",
       "      <td>1</td>\n",
       "    </tr>\n",
       "    <tr>\n",
       "      <th>3</th>\n",
       "      <td>1</td>\n",
       "      <td>89</td>\n",
       "      <td>66</td>\n",
       "      <td>23</td>\n",
       "      <td>94</td>\n",
       "      <td>28.1</td>\n",
       "      <td>0.167</td>\n",
       "      <td>21</td>\n",
       "      <td>0</td>\n",
       "    </tr>\n",
       "    <tr>\n",
       "      <th>4</th>\n",
       "      <td>0</td>\n",
       "      <td>137</td>\n",
       "      <td>40</td>\n",
       "      <td>35</td>\n",
       "      <td>168</td>\n",
       "      <td>43.1</td>\n",
       "      <td>2.288</td>\n",
       "      <td>33</td>\n",
       "      <td>1</td>\n",
       "    </tr>\n",
       "  </tbody>\n",
       "</table>\n",
       "</div>"
      ],
      "text/plain": [
       "   Pregnancies  Glucose  BloodPressure  SkinThickness  Insulin   BMI  \\\n",
       "0            6      148             72             35        0  33.6   \n",
       "1            1       85             66             29        0  26.6   \n",
       "2            8      183             64              0        0  23.3   \n",
       "3            1       89             66             23       94  28.1   \n",
       "4            0      137             40             35      168  43.1   \n",
       "\n",
       "   DiabetesPedigreeFunction  Age  Outcome  \n",
       "0                     0.627   50        1  \n",
       "1                     0.351   31        0  \n",
       "2                     0.672   32        1  \n",
       "3                     0.167   21        0  \n",
       "4                     2.288   33        1  "
      ]
     },
     "execution_count": 3,
     "metadata": {},
     "output_type": "execute_result"
    }
   ],
   "source": [
    "diabetes = pd.read_csv('diabetes.csv')\n",
    "diabetes.head()"
   ]
  },
  {
   "cell_type": "code",
   "execution_count": 4,
   "id": "d6e0e096-c22d-40ff-b497-20c159d2f95b",
   "metadata": {},
   "outputs": [
    {
     "name": "stdout",
     "output_type": "stream",
     "text": [
      "   Pregnancies  Glucose  BloodPressure  SkinThickness  Insulin   BMI  \\\n",
      "0            6      148             72             35        0  33.6   \n",
      "1            1       85             66             29        0  26.6   \n",
      "2            8      183             64              0        0  23.3   \n",
      "3            1       89             66             23       94  28.1   \n",
      "4            0      137             40             35      168  43.1   \n",
      "\n",
      "   DiabetesPedigreeFunction  Age  Outcome  \n",
      "0                     0.627   50        1  \n",
      "1                     0.351   31        0  \n",
      "2                     0.672   32        1  \n",
      "3                     0.167   21        0  \n",
      "4                     2.288   33        1  \n"
     ]
    },
    {
     "data": {
      "text/plain": [
       "array([[6.000e+00, 1.480e+02, 7.200e+01, 3.500e+01, 0.000e+00, 3.360e+01,\n",
       "        6.270e-01, 5.000e+01],\n",
       "       [1.000e+00, 8.500e+01, 6.600e+01, 2.900e+01, 0.000e+00, 2.660e+01,\n",
       "        3.510e-01, 3.100e+01],\n",
       "       [8.000e+00, 1.830e+02, 6.400e+01, 0.000e+00, 0.000e+00, 2.330e+01,\n",
       "        6.720e-01, 3.200e+01],\n",
       "       [1.000e+00, 8.900e+01, 6.600e+01, 2.300e+01, 9.400e+01, 2.810e+01,\n",
       "        1.670e-01, 2.100e+01],\n",
       "       [0.000e+00, 1.370e+02, 4.000e+01, 3.500e+01, 1.680e+02, 4.310e+01,\n",
       "        2.288e+00, 3.300e+01],\n",
       "       [5.000e+00, 1.160e+02, 7.400e+01, 0.000e+00, 0.000e+00, 2.560e+01,\n",
       "        2.010e-01, 3.000e+01],\n",
       "       [3.000e+00, 7.800e+01, 5.000e+01, 3.200e+01, 8.800e+01, 3.100e+01,\n",
       "        2.480e-01, 2.600e+01],\n",
       "       [1.000e+01, 1.150e+02, 0.000e+00, 0.000e+00, 0.000e+00, 3.530e+01,\n",
       "        1.340e-01, 2.900e+01],\n",
       "       [2.000e+00, 1.970e+02, 7.000e+01, 4.500e+01, 5.430e+02, 3.050e+01,\n",
       "        1.580e-01, 5.300e+01],\n",
       "       [8.000e+00, 1.250e+02, 9.600e+01, 0.000e+00, 0.000e+00, 0.000e+00,\n",
       "        2.320e-01, 5.400e+01]])"
      ]
     },
     "execution_count": 4,
     "metadata": {},
     "output_type": "execute_result"
    }
   ],
   "source": [
    "print(diabetes.head())\n",
    "#Splits diabetes dataset into input/output\n",
    "X = diabetes.iloc[:,[0,1,2,3,4,5,6,7]].values\n",
    "Y = diabetes.iloc[:,[8]].values\n",
    "X[0:10]"
   ]
  },
  {
   "cell_type": "code",
   "execution_count": 5,
   "id": "7f002d9d-510a-4e5b-865c-75819a297c78",
   "metadata": {},
   "outputs": [
    {
     "name": "stdout",
     "output_type": "stream",
     "text": [
      "[[7.00e+00 1.50e+02 7.80e+01 ... 3.52e+01 6.92e-01 5.40e+01]\n",
      " [4.00e+00 9.70e+01 6.00e+01 ... 2.82e+01 4.43e-01 2.20e+01]\n",
      " [0.00e+00 1.65e+02 9.00e+01 ... 5.23e+01 4.27e-01 2.30e+01]\n",
      " ...\n",
      " [4.00e+00 9.40e+01 6.50e+01 ... 2.47e+01 1.48e-01 2.10e+01]\n",
      " [1.10e+01 8.50e+01 7.40e+01 ... 3.01e+01 3.00e-01 3.50e+01]\n",
      " [5.00e+00 1.36e+02 8.20e+01 ... 0.00e+00 6.40e-01 6.90e+01]]\n"
     ]
    }
   ],
   "source": [
    "#Split the input/output collections into training/validationsets\n",
    "from sklearn.model_selection import train_test_split\n",
    "X_train, X_test, Y_train, Y_test = train_test_split(X, Y, test_size = 0.20, random_state = 0)\n",
    "print(X_train)"
   ]
  },
  {
   "cell_type": "code",
   "execution_count": 6,
   "id": "09f97867-d27d-4a20-9f6d-7a07f86de257",
   "metadata": {},
   "outputs": [
    {
     "name": "stdout",
     "output_type": "stream",
     "text": [
      "[[ 0.90832902  0.91569367  0.44912368 ...  0.37852648  0.67740401\n",
      "   1.69955804]\n",
      " [ 0.03644676 -0.75182191 -0.47230103 ... -0.50667229 -0.07049698\n",
      "  -0.96569189]\n",
      " [-1.12606292  1.38763205  1.06340683 ...  2.54094063 -0.11855487\n",
      "  -0.88240283]\n",
      " ...\n",
      " [ 0.03644676 -0.84620959 -0.21634972 ... -0.94927168 -0.95656442\n",
      "  -1.04898095]\n",
      " [ 2.0708387  -1.12937261  0.24436264 ... -0.26640405 -0.50001442\n",
      "   0.11706589]\n",
      " [ 0.32707418  0.47521786  0.65388473 ... -4.07275877  0.52121586\n",
      "   2.94889395]]\n"
     ]
    }
   ],
   "source": [
    "from sklearn.preprocessing import StandardScaler\n",
    "scaler = StandardScaler()\n",
    "X_train = scaler.fit_transform(X_train)\n",
    "X_test = scaler.transform(X_test)\n",
    "#Performs standarization\n",
    "print(X_train)"
   ]
  },
  {
   "cell_type": "code",
   "execution_count": 7,
   "id": "1c65c6dd-54e4-4986-a0da-06ba80bb017d",
   "metadata": {},
   "outputs": [
    {
     "name": "stderr",
     "output_type": "stream",
     "text": [
      "C:\\Anaconda\\lib\\site-packages\\sklearn\\utils\\validation.py:63: DataConversionWarning: A column-vector y was passed when a 1d array was expected. Please change the shape of y to (n_samples, ), for example using ravel().\n",
      "  return f(*args, **kwargs)\n"
     ]
    },
    {
     "data": {
      "text/plain": [
       "array([1, 0, 0, 1, 0, 0, 1, 1, 0], dtype=int64)"
      ]
     },
     "execution_count": 7,
     "metadata": {},
     "output_type": "execute_result"
    }
   ],
   "source": [
    "#Problem 1, logistic regression\n",
    "#Logistic_Class = LogisticRegression(random_state=0)\n",
    "#Logistic_Class.fit(X_train, Y_train)\n",
    "from sklearn.linear_model import LogisticRegression \n",
    "classifier = LogisticRegression(random_state=0) \n",
    "classifier.fit(X_train, Y_train)\n",
    "\n",
    "Y_pred = classifier.predict(X_test)\n",
    "Y_pred[0:9]"
   ]
  },
  {
   "cell_type": "code",
   "execution_count": 8,
   "id": "c477a21a-51e5-4277-a1e7-87889bdfa6ae",
   "metadata": {},
   "outputs": [
    {
     "name": "stdout",
     "output_type": "stream",
     "text": [
      "[[98  9]\n",
      " [18 29]]\n"
     ]
    }
   ],
   "source": [
    "#Print confusion matrix\n",
    "from sklearn.metrics import confusion_matrix\n",
    "\n",
    "cn_m=confusion_matrix(Y_test, Y_pred)\n",
    "print(cn_m)"
   ]
  },
  {
   "cell_type": "code",
   "execution_count": 9,
   "id": "4acd40d1-4dd6-4076-8bd1-b44ba2d7f138",
   "metadata": {},
   "outputs": [
    {
     "name": "stdout",
     "output_type": "stream",
     "text": [
      "Accuracy is: 0.8246753246753247\n",
      "Precision is: 0.7631578947368421\n",
      "Recall is: 0.6170212765957447\n"
     ]
    }
   ],
   "source": [
    "#Print Accuracy, Precision, and Recall for Problem 1\n",
    "from sklearn import metrics \n",
    "print(\"Accuracy is:\",metrics.accuracy_score(Y_test, Y_pred)) \n",
    "print(\"Precision is:\",metrics.precision_score(Y_test, Y_pred)) \n",
    "print(\"Recall is:\",metrics.recall_score(Y_test, Y_pred))"
   ]
  },
  {
   "cell_type": "code",
   "execution_count": 10,
   "id": "70da81d6-9c40-4c6e-bd47-4b29c3a8674d",
   "metadata": {},
   "outputs": [
    {
     "data": {
      "text/plain": [
       "Text(0.5, 257.44, 'Da Predicted Value Label')"
      ]
     },
     "execution_count": 10,
     "metadata": {},
     "output_type": "execute_result"
    },
    {
     "data": {
      "image/png": "[encoded data removed]",
      "text/plain": [
       "<Figure size 432x288 with 2 Axes>"
      ]
     },
     "metadata": {
      "needs_background": "light"
     },
     "output_type": "display_data"
    }
   ],
   "source": [
    "#Confusion Matrix Graph\n",
    "class_names=[0,1] # name  of classes \n",
    "fig, ax = plt.subplots() \n",
    "tick_marks = np.arange(len(class_names)) \n",
    "plt.xticks(tick_marks, class_names) \n",
    "plt.yticks(tick_marks, class_names) \n",
    "# create heatmap \n",
    "sns.heatmap(pd.DataFrame(cn_m), annot=True, cmap=\"YlGnBu\" ,fmt='g') \n",
    "ax.xaxis.set_label_position(\"top\") \n",
    "plt.tight_layout() \n",
    "plt.title('Da Confusion Matrix for Logistic Regression', y=1.1) \n",
    "plt.ylabel('Da Actual Value Label') \n",
    "plt.xlabel('Da Predicted Value Label')"
   ]
  },
  {
   "cell_type": "code",
   "execution_count": 11,
   "id": "a08271c2-05d9-47bd-9a15-ef69641f063b",
   "metadata": {},
   "outputs": [
    {
     "name": "stderr",
     "output_type": "stream",
     "text": [
      "C:\\Anaconda\\lib\\site-packages\\sklearn\\utils\\validation.py:63: DataConversionWarning: A column-vector y was passed when a 1d array was expected. Please change the shape of y to (n_samples, ), for example using ravel().\n",
      "  return f(*args, **kwargs)\n"
     ]
    },
    {
     "data": {
      "text/plain": [
       "GaussianNB()"
      ]
     },
     "execution_count": 11,
     "metadata": {},
     "output_type": "execute_result"
    }
   ],
   "source": [
    "#Problem 2,Naive Bays Binary Classifier for positive diabetes\n",
    "from sklearn.naive_bayes import GaussianNB\n",
    "classifier = GaussianNB()\n",
    "classifier.fit(X_train, Y_train)"
   ]
  },
  {
   "cell_type": "code",
   "execution_count": 12,
   "id": "65ea03dc-3dc7-454e-be76-7c5f8738b7a6",
   "metadata": {},
   "outputs": [],
   "source": [
    "Y_pred  =  classifier.predict(X_test)\n",
    "#print(Y_pred)"
   ]
  },
  {
   "cell_type": "code",
   "execution_count": 13,
   "id": "f30025fa-4e25-44bc-9fac-273029837c2b",
   "metadata": {},
   "outputs": [
    {
     "name": "stdout",
     "output_type": "stream",
     "text": [
      "[[93 14]\n",
      " [18 29]]\n"
     ]
    }
   ],
   "source": [
    "#Confusion Matrix and Validation Scores \n",
    "cn_m2 = confusion_matrix(Y_test, Y_pred)\n",
    "print(cn_m2)"
   ]
  },
  {
   "cell_type": "code",
   "execution_count": 14,
   "id": "89c4a5ef-923c-429c-a1b7-af2779b5cc11",
   "metadata": {},
   "outputs": [
    {
     "name": "stdout",
     "output_type": "stream",
     "text": [
      "Accuracy is: 0.7922077922077922\n",
      "Precision is: 0.6744186046511628\n",
      "Recall is: 0.6170212765957447\n"
     ]
    }
   ],
   "source": [
    "print(\"Accuracy is:\",metrics.accuracy_score(Y_test, Y_pred)) \n",
    "print(\"Precision is:\",metrics.precision_score(Y_test, Y_pred)) \n",
    "print(\"Recall is:\",metrics.recall_score(Y_test, Y_pred))"
   ]
  },
  {
   "cell_type": "code",
   "execution_count": 15,
   "id": "d00f73c9-c053-441e-993f-48d4028c7719",
   "metadata": {},
   "outputs": [],
   "source": [
    "#Values for Naive Bays are close to Logistic Regression, with lower accuracy and precision, but same recall"
   ]
  },
  {
   "cell_type": "code",
   "execution_count": 16,
   "id": "99fbac2b-6f72-4c3c-a345-e955321c6a7f",
   "metadata": {},
   "outputs": [
    {
     "data": {
      "text/plain": [
       "Text(0.5, 257.44, 'Da Predicted Value Label')"
      ]
     },
     "execution_count": 16,
     "metadata": {},
     "output_type": "execute_result"
    },
    {
     "data": {
      "image/png": "[encoded data removed]",
      "text/plain": [
       "<Figure size 432x288 with 2 Axes>"
      ]
     },
     "metadata": {
      "needs_background": "light"
     },
     "output_type": "display_data"
    }
   ],
   "source": [
    "#Output a visual representation of the confusion matirx.\n",
    "class_names=[0,1] # name  of classes \n",
    "fig, ax = plt.subplots() \n",
    "tick_marks = np.arange(len(class_names)) \n",
    "plt.xticks(tick_marks, class_names) \n",
    "plt.yticks(tick_marks, class_names) \n",
    "# create heatmap \n",
    "sns.heatmap(pd.DataFrame(cn_m2), annot=True, cmap=\"YlGnBu\" ,fmt='g') \n",
    "ax.xaxis.set_label_position(\"top\") \n",
    "plt.tight_layout() \n",
    "plt.title('Da Confusion Matrix for Naive Bays', y=1.1) \n",
    "plt.ylabel('Da Actual Value Label') \n",
    "plt.xlabel('Da Predicted Value Label')"
   ]
  },
  {
   "cell_type": "code",
   "execution_count": 17,
   "id": "0e056cee-44a9-4eb7-9fbe-f74e90c782d1",
   "metadata": {},
   "outputs": [
    {
     "name": "stdout",
     "output_type": "stream",
     "text": [
      "Accuracy is: 0.7578558696205755\n",
      "Precision is: 0.6709650864971336\n",
      "Recall is: 0.6013137121439008\n"
     ]
    }
   ],
   "source": [
    "#K = 5\n",
    "cv = KFold(n_splits=5, random_state=1, shuffle=True)\n",
    "model = GaussianNB()\n",
    "scoring = {'accuracy' : make_scorer(accuracy_score), \n",
    "           'precision' : make_scorer(precision_score),\n",
    "           'recall' : make_scorer(recall_score)}\n",
    "\n",
    "final_scores = cross_validate(model, X, Y, scoring=scoring, cv=cv, n_jobs=-1)\n",
    "print(\"Accuracy is:\",mean(final_scores['test_accuracy'])) \n",
    "print(\"Precision is:\",mean(final_scores['test_precision'])) \n",
    "print(\"Recall is:\",mean(final_scores['test_recall']))"
   ]
  },
  {
   "cell_type": "code",
   "execution_count": 18,
   "id": "483f25a2-bb44-4647-9039-1b2c459b3734",
   "metadata": {},
   "outputs": [],
   "source": [
    "#Compared to Logistic Regression in Problem 1, K-Fold Cross-Validation(K = 5) had lower accuracy, lower precision, and lower recall"
   ]
  },
  {
   "cell_type": "code",
   "execution_count": 19,
   "id": "8331ce55-12d4-477b-ada5-d9ea9d27e173",
   "metadata": {},
   "outputs": [
    {
     "name": "stdout",
     "output_type": "stream",
     "text": [
      "Accuracy is: 0.7564764183185236\n",
      "Precision is: 0.6652269630530501\n",
      "Recall is: 0.600860189563338\n"
     ]
    }
   ],
   "source": [
    "#K = 10:\n",
    "cv = KFold(n_splits=10, random_state=1, shuffle=True)\n",
    "model = GaussianNB()\n",
    "scoring = {'accuracy' : make_scorer(accuracy_score), \n",
    "           'precision' : make_scorer(precision_score),\n",
    "           'recall' : make_scorer(recall_score)}\n",
    "\n",
    "final_scores = cross_validate(model, X, Y, scoring=scoring, cv=cv, n_jobs=-1)\n",
    "print(\"Accuracy is:\",mean(final_scores['test_accuracy'])) \n",
    "print(\"Precision is:\",mean(final_scores['test_precision'])) \n",
    "print(\"Recall is:\",mean(final_scores['test_recall']))"
   ]
  },
  {
   "cell_type": "code",
   "execution_count": 20,
   "id": "69d1aa76-3da4-4ea5-900e-a8fc1e9532d1",
   "metadata": {},
   "outputs": [],
   "source": [
    "#Compared to Logistic Regression in Problem 1, K-Fold Cross-Validation(K = 10) had lower accuracy, lower precision, and lower recall"
   ]
  },
  {
   "cell_type": "code",
   "execution_count": 21,
   "id": "4559f959-c349-4857-bb17-f0f983af2042",
   "metadata": {},
   "outputs": [
    {
     "name": "stdout",
     "output_type": "stream",
     "text": [
      "Accuracy is: 0.7564764183185236\n",
      "Precision is: 0.6652269630530501\n",
      "Recall is: 0.600860189563338\n"
     ]
    }
   ],
   "source": [
    "#Problem 4, K-Fold Cross-Validation for Naive Bays Classifier\n",
    "#K = 5\n",
    "cv = KFold(n_splits=10, random_state=1, shuffle=True)\n",
    "model = GaussianNB()\n",
    "scoring = {'accuracy' : make_scorer(accuracy_score), \n",
    "           'precision' : make_scorer(precision_score),\n",
    "           'recall' : make_scorer(recall_score)}\n",
    "\n",
    "final_scores = cross_validate(model, X, Y, scoring=scoring, cv=cv, n_jobs=-1)\n",
    "print(\"Accuracy is:\",mean(final_scores['test_accuracy'])) \n",
    "print(\"Precision is:\",mean(final_scores['test_precision'])) \n",
    "print(\"Recall is:\",mean(final_scores['test_recall']))"
   ]
  },
  {
   "cell_type": "code",
   "execution_count": null,
   "id": "163f06d9-21b0-46e7-8204-5f7368f332f9",
   "metadata": {},
   "outputs": [],
   "source": [
    "#Does not say to compare resuts, but just in case, higher accuracy, lower precision, lower recall"
   ]
  },
  {
   "cell_type": "code",
   "execution_count": 22,
   "id": "0c043e8b-eaff-480b-a6fc-a591cbe2e69b",
   "metadata": {},
   "outputs": [
    {
     "name": "stdout",
     "output_type": "stream",
     "text": [
      "Accuracy is: 0.7564764183185236\n",
      "Precision is: 0.6652269630530501\n",
      "Recall is: 0.600860189563338\n"
     ]
    }
   ],
   "source": [
    "#K = 10\n",
    "cv = KFold(n_splits=10, random_state=1, shuffle=True)\n",
    "model = GaussianNB()\n",
    "scoring = {'accuracy' : make_scorer(accuracy_score), \n",
    "           'precision' : make_scorer(precision_score),\n",
    "           'recall' : make_scorer(recall_score)}\n",
    "\n",
    "final_scores = cross_validate(model, X, Y, scoring=scoring, cv=cv, n_jobs=-1)\n",
    "print(\"Accuracy is:\",mean(final_scores['test_accuracy'])) \n",
    "print(\"Precision is:\",mean(final_scores['test_precision'])) \n",
    "print(\"Recall is:\",mean(final_scores['test_recall']))"
   ]
  },
  {
   "cell_type": "code",
   "execution_count": null,
   "id": "2a3bd839-deb5-4dc0-9a4a-14c4e0c3e43f",
   "metadata": {},
   "outputs": [],
   "source": [
    "#lower accuracy, Lower precision, lower recall\n",
    "#It does not make sense to use K-Fold, ad Naive Bayes is a classifier for probablility "
   ]
  }
 ],
 "metadata": {
  "kernelspec": {
   "display_name": "Python 3",
   "language": "python",
   "name": "python3"
  },
  "language_info": {
   "codemirror_mode": {
    "name": "ipython",
    "version": 3
   },
   "file_extension": ".py",
   "mimetype": "text/x-python",
   "name": "python",
   "nbconvert_exporter": "python",
   "pygments_lexer": "ipython3",
   "version": "3.8.8"
  }
 },
 "nbformat": 4,
 "nbformat_minor": 5
}
