{
 "cells": [
  {
   "cell_type": "code",
   "execution_count": 1,
   "id": "b1dead07-320b-4fcf-bf34-250392ba5c1d",
   "metadata": {},
   "outputs": [
    {
     "data": {
      "text/plain": [
       "(569, 30)"
      ]
     },
     "execution_count": 1,
     "metadata": {},
     "output_type": "execute_result"
    }
   ],
   "source": [
    "#Name: Mark McAfoose\n",
    "#Student ID: 801149826\n",
    "#Homework 3\n",
    "#Github Link\n",
    "\n",
    "import numpy as np\n",
    "import matplotlib.pyplot as plt\n",
    "import pandas as pd\n",
    "import seaborn as sns\n",
    "from sklearn.discriminant_analysis import LinearDiscriminantAnalysis\n",
    "from sklearn.metrics import accuracy_score\n",
    "from sklearn.metrics import confusion_matrix\n",
    "from sklearn.datasets import load_breast_cancer\n",
    "from sklearn.model_selection import train_test_split\n",
    "from sklearn.preprocessing import StandardScaler\n",
    "from sklearn.linear_model import LogisticRegression\n",
    "from sklearn.metrics import confusion_matrix\n",
    "from sklearn.preprocessing import StandardScaler\n",
    "from sklearn import metrics \n",
    "from sklearn.decomposition import PCA \n",
    "\n",
    "\n",
    "import warnings\n",
    "warnings.filterwarnings('ignore')\n",
    "\n",
    "#Set same randomstate for each occurence\n",
    "RSTATE = 0\n",
    "\n",
    "#Import breast cancer data\n",
    "breast = load_breast_cancer() \n",
    "breast_data = breast.data\n",
    "breast_data.shape"
   ]
  },
  {
   "cell_type": "code",
   "execution_count": 2,
   "id": "f0bdbc2f-8138-453f-ae06-263096dd3beb",
   "metadata": {},
   "outputs": [
    {
     "name": "stdout",
     "output_type": "stream",
     "text": [
      "(569,)\n",
      "(569, 31)\n"
     ]
    }
   ],
   "source": [
    "breast_input = pd.DataFrame(breast_data)\n",
    "breast_input.head()\n",
    "breast_labels = breast.target\n",
    "print(breast_labels.shape)\n",
    "labels = np.reshape(breast_labels,(569,1))\n",
    "final_breast_data = np.concatenate([breast_data,labels],axis=1) \n",
    "print(final_breast_data.shape)"
   ]
  },
  {
   "cell_type": "code",
   "execution_count": 3,
   "id": "208b428f-0321-4125-bf82-6248bff384ff",
   "metadata": {},
   "outputs": [
    {
     "name": "stdout",
     "output_type": "stream",
     "text": [
      "['mean radius' 'mean texture' 'mean perimeter' 'mean area'\n",
      " 'mean smoothness' 'mean compactness' 'mean concavity'\n",
      " 'mean concave points' 'mean symmetry' 'mean fractal dimension'\n",
      " 'radius error' 'texture error' 'perimeter error' 'area error'\n",
      " 'smoothness error' 'compactness error' 'concavity error'\n",
      " 'concave points error' 'symmetry error' 'fractal dimension error'\n",
      " 'worst radius' 'worst texture' 'worst perimeter' 'worst area'\n",
      " 'worst smoothness' 'worst compactness' 'worst concavity'\n",
      " 'worst concave points' 'worst symmetry' 'worst fractal dimension']\n"
     ]
    }
   ],
   "source": [
    "breast_dataset = pd.DataFrame(final_breast_data)\n",
    "features = breast.feature_names \n",
    "print(features)\n",
    "features_labels = np.append(features,'label') \n",
    "breast_dataset.columns = features_labels "
   ]
  },
  {
   "cell_type": "code",
   "execution_count": 4,
   "id": "0da1431e-4387-4183-b398-c9447aeaaa3a",
   "metadata": {},
   "outputs": [
    {
     "data": {
      "text/html": [
       "<div>\n",
       "<style scoped>\n",
       "    .dataframe tbody tr th:only-of-type {\n",
       "        vertical-align: middle;\n",
       "    }\n",
       "\n",
       "    .dataframe tbody tr th {\n",
       "        vertical-align: top;\n",
       "    }\n",
       "\n",
       "    .dataframe thead th {\n",
       "        text-align: right;\n",
       "    }\n",
       "</style>\n",
       "<table border=\"1\" class=\"dataframe\">\n",
       "  <thead>\n",
       "    <tr style=\"text-align: right;\">\n",
       "      <th></th>\n",
       "      <th>mean radius</th>\n",
       "      <th>mean texture</th>\n",
       "      <th>mean perimeter</th>\n",
       "      <th>mean area</th>\n",
       "      <th>mean smoothness</th>\n",
       "      <th>mean compactness</th>\n",
       "      <th>mean concavity</th>\n",
       "      <th>mean concave points</th>\n",
       "      <th>mean symmetry</th>\n",
       "      <th>mean fractal dimension</th>\n",
       "      <th>...</th>\n",
       "      <th>worst texture</th>\n",
       "      <th>worst perimeter</th>\n",
       "      <th>worst area</th>\n",
       "      <th>worst smoothness</th>\n",
       "      <th>worst compactness</th>\n",
       "      <th>worst concavity</th>\n",
       "      <th>worst concave points</th>\n",
       "      <th>worst symmetry</th>\n",
       "      <th>worst fractal dimension</th>\n",
       "      <th>label</th>\n",
       "    </tr>\n",
       "  </thead>\n",
       "  <tbody>\n",
       "    <tr>\n",
       "      <th>564</th>\n",
       "      <td>21.56</td>\n",
       "      <td>22.39</td>\n",
       "      <td>142.00</td>\n",
       "      <td>1479.0</td>\n",
       "      <td>0.11100</td>\n",
       "      <td>0.11590</td>\n",
       "      <td>0.24390</td>\n",
       "      <td>0.13890</td>\n",
       "      <td>0.1726</td>\n",
       "      <td>0.05623</td>\n",
       "      <td>...</td>\n",
       "      <td>26.40</td>\n",
       "      <td>166.10</td>\n",
       "      <td>2027.0</td>\n",
       "      <td>0.14100</td>\n",
       "      <td>0.21130</td>\n",
       "      <td>0.4107</td>\n",
       "      <td>0.2216</td>\n",
       "      <td>0.2060</td>\n",
       "      <td>0.07115</td>\n",
       "      <td>Benign</td>\n",
       "    </tr>\n",
       "    <tr>\n",
       "      <th>565</th>\n",
       "      <td>20.13</td>\n",
       "      <td>28.25</td>\n",
       "      <td>131.20</td>\n",
       "      <td>1261.0</td>\n",
       "      <td>0.09780</td>\n",
       "      <td>0.10340</td>\n",
       "      <td>0.14400</td>\n",
       "      <td>0.09791</td>\n",
       "      <td>0.1752</td>\n",
       "      <td>0.05533</td>\n",
       "      <td>...</td>\n",
       "      <td>38.25</td>\n",
       "      <td>155.00</td>\n",
       "      <td>1731.0</td>\n",
       "      <td>0.11660</td>\n",
       "      <td>0.19220</td>\n",
       "      <td>0.3215</td>\n",
       "      <td>0.1628</td>\n",
       "      <td>0.2572</td>\n",
       "      <td>0.06637</td>\n",
       "      <td>Benign</td>\n",
       "    </tr>\n",
       "    <tr>\n",
       "      <th>566</th>\n",
       "      <td>16.60</td>\n",
       "      <td>28.08</td>\n",
       "      <td>108.30</td>\n",
       "      <td>858.1</td>\n",
       "      <td>0.08455</td>\n",
       "      <td>0.10230</td>\n",
       "      <td>0.09251</td>\n",
       "      <td>0.05302</td>\n",
       "      <td>0.1590</td>\n",
       "      <td>0.05648</td>\n",
       "      <td>...</td>\n",
       "      <td>34.12</td>\n",
       "      <td>126.70</td>\n",
       "      <td>1124.0</td>\n",
       "      <td>0.11390</td>\n",
       "      <td>0.30940</td>\n",
       "      <td>0.3403</td>\n",
       "      <td>0.1418</td>\n",
       "      <td>0.2218</td>\n",
       "      <td>0.07820</td>\n",
       "      <td>Benign</td>\n",
       "    </tr>\n",
       "    <tr>\n",
       "      <th>567</th>\n",
       "      <td>20.60</td>\n",
       "      <td>29.33</td>\n",
       "      <td>140.10</td>\n",
       "      <td>1265.0</td>\n",
       "      <td>0.11780</td>\n",
       "      <td>0.27700</td>\n",
       "      <td>0.35140</td>\n",
       "      <td>0.15200</td>\n",
       "      <td>0.2397</td>\n",
       "      <td>0.07016</td>\n",
       "      <td>...</td>\n",
       "      <td>39.42</td>\n",
       "      <td>184.60</td>\n",
       "      <td>1821.0</td>\n",
       "      <td>0.16500</td>\n",
       "      <td>0.86810</td>\n",
       "      <td>0.9387</td>\n",
       "      <td>0.2650</td>\n",
       "      <td>0.4087</td>\n",
       "      <td>0.12400</td>\n",
       "      <td>Benign</td>\n",
       "    </tr>\n",
       "    <tr>\n",
       "      <th>568</th>\n",
       "      <td>7.76</td>\n",
       "      <td>24.54</td>\n",
       "      <td>47.92</td>\n",
       "      <td>181.0</td>\n",
       "      <td>0.05263</td>\n",
       "      <td>0.04362</td>\n",
       "      <td>0.00000</td>\n",
       "      <td>0.00000</td>\n",
       "      <td>0.1587</td>\n",
       "      <td>0.05884</td>\n",
       "      <td>...</td>\n",
       "      <td>30.37</td>\n",
       "      <td>59.16</td>\n",
       "      <td>268.6</td>\n",
       "      <td>0.08996</td>\n",
       "      <td>0.06444</td>\n",
       "      <td>0.0000</td>\n",
       "      <td>0.0000</td>\n",
       "      <td>0.2871</td>\n",
       "      <td>0.07039</td>\n",
       "      <td>Malignant</td>\n",
       "    </tr>\n",
       "  </tbody>\n",
       "</table>\n",
       "<p>5 rows × 31 columns</p>\n",
       "</div>"
      ],
      "text/plain": [
       "     mean radius  mean texture  mean perimeter  mean area  mean smoothness  \\\n",
       "564        21.56         22.39          142.00     1479.0          0.11100   \n",
       "565        20.13         28.25          131.20     1261.0          0.09780   \n",
       "566        16.60         28.08          108.30      858.1          0.08455   \n",
       "567        20.60         29.33          140.10     1265.0          0.11780   \n",
       "568         7.76         24.54           47.92      181.0          0.05263   \n",
       "\n",
       "     mean compactness  mean concavity  mean concave points  mean symmetry  \\\n",
       "564           0.11590         0.24390              0.13890         0.1726   \n",
       "565           0.10340         0.14400              0.09791         0.1752   \n",
       "566           0.10230         0.09251              0.05302         0.1590   \n",
       "567           0.27700         0.35140              0.15200         0.2397   \n",
       "568           0.04362         0.00000              0.00000         0.1587   \n",
       "\n",
       "     mean fractal dimension  ...  worst texture  worst perimeter  worst area  \\\n",
       "564                 0.05623  ...          26.40           166.10      2027.0   \n",
       "565                 0.05533  ...          38.25           155.00      1731.0   \n",
       "566                 0.05648  ...          34.12           126.70      1124.0   \n",
       "567                 0.07016  ...          39.42           184.60      1821.0   \n",
       "568                 0.05884  ...          30.37            59.16       268.6   \n",
       "\n",
       "     worst smoothness  worst compactness  worst concavity  \\\n",
       "564           0.14100            0.21130           0.4107   \n",
       "565           0.11660            0.19220           0.3215   \n",
       "566           0.11390            0.30940           0.3403   \n",
       "567           0.16500            0.86810           0.9387   \n",
       "568           0.08996            0.06444           0.0000   \n",
       "\n",
       "     worst concave points  worst symmetry  worst fractal dimension      label  \n",
       "564                0.2216          0.2060                  0.07115     Benign  \n",
       "565                0.1628          0.2572                  0.06637     Benign  \n",
       "566                0.1418          0.2218                  0.07820     Benign  \n",
       "567                0.2650          0.4087                  0.12400     Benign  \n",
       "568                0.0000          0.2871                  0.07039  Malignant  \n",
       "\n",
       "[5 rows x 31 columns]"
      ]
     },
     "execution_count": 4,
     "metadata": {},
     "output_type": "execute_result"
    }
   ],
   "source": [
    "breast_dataset['label'].replace(0, 'Benign',inplace=True) \n",
    "breast_dataset['label'].replace(1, 'Malignant',inplace=True)\n",
    "breast_dataset.tail() "
   ]
  },
  {
   "cell_type": "code",
   "execution_count": 5,
   "id": "e1fa0dc3-7e25-44ad-848c-6cd1a1485270",
   "metadata": {},
   "outputs": [],
   "source": [
    "#80%/20% train to test split:\n",
    "X_train, X_test, Y_train, Y_test = train_test_split(breast_input, labels, test_size = 0.20, random_state = RSTATE)\n",
    "#Scaling data with standardization:\n",
    "sc_X = StandardScaler() \n",
    "X_train = sc_X.fit_transform(X_train) \n",
    "X_test = sc_X.transform(X_test)"
   ]
  },
  {
   "cell_type": "code",
   "execution_count": 6,
   "id": "b50c93c6-fa38-4cc6-813e-698c85e2292e",
   "metadata": {},
   "outputs": [
    {
     "name": "stdout",
     "output_type": "stream",
     "text": [
      "[[45  2]\n",
      " [ 2 65]]\n",
      "Accuracy: 0.9649122807017544\n",
      "Precision: 0.9701492537313433\n",
      "Recall: 0.9701492537313433\n"
     ]
    },
    {
     "data": {
      "text/plain": [
       "Text(0.5, 257.44, 'Predicted value label')"
      ]
     },
     "execution_count": 6,
     "metadata": {},
     "output_type": "execute_result"
    },
    {
     "data": {
      "image/png": "[encoded data removed]",
      "text/plain": [
       "<Figure size 432x288 with 2 Axes>"
      ]
     },
     "metadata": {
      "needs_background": "light"
     },
     "output_type": "display_data"
    }
   ],
   "source": [
    "#Problem 1:\n",
    "\n",
    "#Make an instance classifier of the object LogisticRegression and give random_state =  \n",
    "classifier = LogisticRegression(random_state=RSTATE) \n",
    "classifier.fit(X_train, Y_train) \n",
    "#load prediction\n",
    "Y_pred = classifier.predict(X_test)\n",
    "from sklearn.metrics import confusion_matrix \n",
    "cnf_matrix = confusion_matrix(Y_test, Y_pred) \n",
    "print(cnf_matrix)\n",
    "print(\"Accuracy:\",metrics.accuracy_score(Y_test, Y_pred)) \n",
    "print(\"Precision:\",metrics.precision_score(Y_test, Y_pred)) \n",
    "print(\"Recall:\",metrics.recall_score(Y_test, Y_pred)) \n",
    "#Visualize the confusion matrix with a heatmap: \n",
    "class_names=[0,1] # name  of classes \n",
    "fig, ax = plt.subplots() \n",
    "tick_marks = np.arange(len(class_names)) \n",
    "plt.xticks(tick_marks, class_names) \n",
    "plt.yticks(tick_marks, class_names) \n",
    "# create heatmap \n",
    "sns.heatmap(pd.DataFrame(cnf_matrix), annot=True, cmap=\"YlGnBu\" ,fmt='g') \n",
    "ax.xaxis.set_label_position(\"top\") \n",
    "plt.tight_layout() \n",
    "plt.title('Confusion matrix for Logisitic Regression', y=1.1) \n",
    "plt.ylabel('Actual value label') \n",
    "plt.xlabel('Predicted value label') "
   ]
  },
  {
   "cell_type": "code",
   "execution_count": 7,
   "id": "21a5ee30-4281-48fd-a820-20d1d24f7a87",
   "metadata": {},
   "outputs": [
    {
     "name": "stdout",
     "output_type": "stream",
     "text": [
      "Results for PCA with K=1\n",
      "Accuracy is: 0.9035087719298246\n",
      "Precision is: 0.9242424242424242\n",
      "Recall is: 0.9104477611940298\n",
      "0.9035087719298246\n",
      "1\n",
      "\n",
      "\n",
      "Results for PCA with K=2\n",
      "Accuracy is: 0.9298245614035088\n",
      "Precision is: 0.9682539682539683\n",
      "Recall is: 0.9104477611940298\n",
      "0.9298245614035088\n",
      "2\n",
      "\n",
      "\n",
      "Results for PCA with K=3\n",
      "Accuracy is: 0.9122807017543859\n",
      "Precision is: 0.9384615384615385\n",
      "Recall is: 0.9104477611940298\n",
      "0.9298245614035088\n",
      "3\n",
      "\n",
      "\n",
      "Results for PCA with K=4\n",
      "Accuracy is: 0.9473684210526315\n",
      "Precision is: 0.9552238805970149\n",
      "Recall is: 0.9552238805970149\n",
      "0.9473684210526315\n",
      "4\n",
      "\n",
      "\n",
      "Results for PCA with K=5\n",
      "Accuracy is: 0.956140350877193\n",
      "Precision is: 0.9558823529411765\n",
      "Recall is: 0.9701492537313433\n",
      "0.956140350877193\n",
      "5\n",
      "\n",
      "\n",
      "Results for PCA with K=6\n",
      "Accuracy is: 0.956140350877193\n",
      "Precision is: 0.9558823529411765\n",
      "Recall is: 0.9701492537313433\n",
      "0.956140350877193\n",
      "6\n",
      "\n",
      "\n",
      "Results for PCA with K=7\n",
      "Accuracy is: 0.956140350877193\n",
      "Precision is: 0.9558823529411765\n",
      "Recall is: 0.9701492537313433\n",
      "0.956140350877193\n",
      "7\n",
      "\n",
      "\n",
      "Results for PCA with K=8\n",
      "Accuracy is: 0.956140350877193\n",
      "Precision is: 0.9558823529411765\n",
      "Recall is: 0.9701492537313433\n",
      "0.956140350877193\n",
      "8\n",
      "\n",
      "\n",
      "Results for PCA with K=9\n",
      "Accuracy is: 0.9473684210526315\n",
      "Precision is: 0.9552238805970149\n",
      "Recall is: 0.9552238805970149\n",
      "0.956140350877193\n",
      "9\n",
      "\n",
      "\n",
      "Results for PCA with K=10\n",
      "Accuracy is: 0.9473684210526315\n",
      "Precision is: 0.9552238805970149\n",
      "Recall is: 0.9552238805970149\n",
      "0.956140350877193\n",
      "10\n",
      "\n",
      "\n",
      "Results for PCA with K=11\n",
      "Accuracy is: 0.9649122807017544\n",
      "Precision is: 0.9701492537313433\n",
      "Recall is: 0.9701492537313433\n",
      "0.9649122807017544\n",
      "11\n",
      "\n",
      "\n",
      "Results for PCA with K=12\n",
      "Accuracy is: 0.9649122807017544\n",
      "Precision is: 0.9701492537313433\n",
      "Recall is: 0.9701492537313433\n",
      "0.9649122807017544\n",
      "12\n",
      "\n",
      "\n",
      "Results for PCA with K=13\n",
      "Accuracy is: 0.9649122807017544\n",
      "Precision is: 0.9701492537313433\n",
      "Recall is: 0.9701492537313433\n",
      "0.9649122807017544\n",
      "13\n",
      "\n",
      "\n",
      "Results for PCA with K=14\n",
      "Accuracy is: 0.9649122807017544\n",
      "Precision is: 0.9701492537313433\n",
      "Recall is: 0.9701492537313433\n",
      "0.9649122807017544\n",
      "14\n",
      "\n",
      "\n",
      "Results for PCA with K=15\n",
      "Accuracy is: 0.9649122807017544\n",
      "Precision is: 0.9701492537313433\n",
      "Recall is: 0.9701492537313433\n",
      "0.9649122807017544\n",
      "15\n",
      "\n",
      "\n",
      "Results for PCA with K=16\n",
      "Accuracy is: 0.9649122807017544\n",
      "Precision is: 0.9701492537313433\n",
      "Recall is: 0.9701492537313433\n",
      "0.9649122807017544\n",
      "16\n",
      "\n",
      "\n",
      "Results for PCA with K=17\n",
      "Accuracy is: 0.9649122807017544\n",
      "Precision is: 0.9701492537313433\n",
      "Recall is: 0.9701492537313433\n",
      "0.9649122807017544\n",
      "17\n",
      "\n",
      "\n",
      "Results for PCA with K=18\n",
      "Accuracy is: 0.9649122807017544\n",
      "Precision is: 0.9701492537313433\n",
      "Recall is: 0.9701492537313433\n",
      "0.9649122807017544\n",
      "18\n",
      "\n",
      "\n",
      "Results for PCA with K=19\n",
      "Accuracy is: 0.9649122807017544\n",
      "Precision is: 0.9701492537313433\n",
      "Recall is: 0.9701492537313433\n",
      "0.9649122807017544\n",
      "19\n",
      "\n",
      "\n",
      "Results for PCA with K=20\n",
      "Accuracy is: 0.9649122807017544\n",
      "Precision is: 0.9701492537313433\n",
      "Recall is: 0.9701492537313433\n",
      "0.9649122807017544\n",
      "20\n",
      "\n",
      "\n",
      "Results for PCA with K=21\n",
      "Accuracy is: 0.9649122807017544\n",
      "Precision is: 0.9701492537313433\n",
      "Recall is: 0.9701492537313433\n",
      "0.9649122807017544\n",
      "21\n",
      "\n",
      "\n",
      "Results for PCA with K=22\n",
      "Accuracy is: 0.9649122807017544\n",
      "Precision is: 0.9701492537313433\n",
      "Recall is: 0.9701492537313433\n",
      "0.9649122807017544\n",
      "22\n",
      "\n",
      "\n",
      "Results for PCA with K=23\n",
      "Accuracy is: 0.9649122807017544\n",
      "Precision is: 0.9701492537313433\n",
      "Recall is: 0.9701492537313433\n",
      "0.9649122807017544\n",
      "23\n",
      "\n",
      "\n",
      "Results for PCA with K=24\n",
      "Accuracy is: 0.9649122807017544\n",
      "Precision is: 0.9701492537313433\n",
      "Recall is: 0.9701492537313433\n",
      "0.9649122807017544\n",
      "24\n",
      "\n",
      "\n",
      "Results for PCA with K=25\n",
      "Accuracy is: 0.9649122807017544\n",
      "Precision is: 0.9701492537313433\n",
      "Recall is: 0.9701492537313433\n",
      "0.9649122807017544\n",
      "25\n",
      "\n",
      "\n",
      "Results for PCA with K=26\n",
      "Accuracy is: 0.9649122807017544\n",
      "Precision is: 0.9701492537313433\n",
      "Recall is: 0.9701492537313433\n",
      "0.9649122807017544\n",
      "26\n",
      "\n",
      "\n",
      "Results for PCA with K=27\n",
      "Accuracy is: 0.9649122807017544\n",
      "Precision is: 0.9701492537313433\n",
      "Recall is: 0.9701492537313433\n",
      "0.9649122807017544\n",
      "27\n",
      "\n",
      "\n",
      "Results for PCA with K=28\n",
      "Accuracy is: 0.9649122807017544\n",
      "Precision is: 0.9701492537313433\n",
      "Recall is: 0.9701492537313433\n",
      "0.9649122807017544\n",
      "28\n",
      "\n",
      "\n",
      "Results for PCA with K=29\n",
      "Accuracy is: 0.9649122807017544\n",
      "Precision is: 0.9701492537313433\n",
      "Recall is: 0.9701492537313433\n",
      "0.9649122807017544\n",
      "29\n",
      "\n",
      "\n",
      "Results for PCA with K=30\n",
      "Accuracy is: 0.9649122807017544\n",
      "Precision is: 0.9701492537313433\n",
      "Recall is: 0.9701492537313433\n",
      "0.9649122807017544\n",
      "30\n",
      "\n",
      "\n"
     ]
    },
    {
     "data": {
      "text/plain": [
       "Text(0.5, 257.44, 'Predicted label is:')"
      ]
     },
     "execution_count": 7,
     "metadata": {},
     "output_type": "execute_result"
    },
    {
     "data": {
      "image/png": "[encoded data removed]",
      "text/plain": [
       "<Figure size 576x576 with 1 Axes>"
      ]
     },
     "metadata": {
      "needs_background": "light"
     },
     "output_type": "display_data"
    },
    {
     "data": {
      "image/png": "[encoded data removed]",
      "text/plain": [
       "<Figure size 432x288 with 2 Axes>"
      ]
     },
     "metadata": {
      "needs_background": "light"
     },
     "output_type": "display_data"
    }
   ],
   "source": [
    "#Problem 2:\n",
    "\n",
    "X = StandardScaler().fit_transform(breast_input)\n",
    "Y = breast_labels\n",
    "\n",
    "K = np.empty([30,1])\n",
    "Acc = np.empty([30,1])\n",
    "Pre = np.empty([30,1])\n",
    "Rec = np.empty([30,1])\n",
    "\n",
    "#Check the results for every number of PC from 1 to 30.\n",
    "for n in range(1, 31):\n",
    "    pca = PCA(n_components=n) \n",
    "    principalComponents = pca.fit_transform(X) \n",
    "\n",
    "    #Show distribution of first two principal components\n",
    "    if n == 2:\n",
    "        principalDf = pd.DataFrame(data = principalComponents \n",
    "                     , columns = ['principal component 1', 'principal component 2'])\n",
    "        finalDf = pd.concat([principalDf, breast_dataset[['label']]], axis = 1)\n",
    "\n",
    "        fig = plt.figure(figsize = (8,8)) \n",
    "        ax = fig.add_subplot(1,1,1)  \n",
    "        ax.set_xlabel('Principal Component 1', fontsize = 15) \n",
    "        ax.set_ylabel('Principal Component 2', fontsize = 15) \n",
    "        ax.set_title('2 component PCA', fontsize = 20) \n",
    "        targets = ['Benign', 'Malignant'] \n",
    "        colors = ['r', 'b'] \n",
    "        for target, color in zip(targets,colors): \n",
    "            indicesToKeep = finalDf['label'] == target \n",
    "            ax.scatter(finalDf.loc[indicesToKeep, 'principal component 1'] \n",
    "                       , finalDf.loc[indicesToKeep, 'principal component 2'] \n",
    "                       , c = color \n",
    "                       , s = 50) \n",
    "        ax.legend(targets) \n",
    "        ax.grid() \n",
    "    \n",
    "    X_train, X_test, Y_train, Y_test = train_test_split(principalComponents, Y, test_size = 0.20, random_state = RSTATE)\n",
    "    classifier = LogisticRegression(random_state=RSTATE) \n",
    "    classifier.fit(X_train, Y_train) \n",
    "    #load prediction\n",
    "    Y_pred = classifier.predict(X_test)\n",
    "    cnf_matrix = confusion_matrix(Y_test, Y_pred) \n",
    "    #print(cnf_matrix) \n",
    "    print(\"Results for PCA with K=%i\" %n)\n",
    "    print(\"Accuracy is:\",metrics.accuracy_score(Y_test, Y_pred)) \n",
    "    print(\"Precision is:\",metrics.precision_score(Y_test, Y_pred)) \n",
    "    print(\"Recall is:\",metrics.recall_score(Y_test, Y_pred))\n",
    "    \n",
    "    #Store accuracy and related number of principal components, K. \n",
    "    K[n-1] = n\n",
    "    Acc[n-1] = metrics.accuracy_score(Y_test, Y_pred)\n",
    "    Pre[n-1] = metrics.precision_score(Y_test, Y_pred)\n",
    "    Rec[n-1] = metrics.recall_score(Y_test, Y_pred)\n",
    "    \n",
    "    MAcc = 0.0\n",
    "    MPre = 0.0\n",
    "    MRec = 0.0\n",
    "    MAcc_K = 0\n",
    "    MPre_K = 0\n",
    "    MRec_K = 0\n",
    "    \n",
    "    if MAcc < np.amax(Acc):\n",
    "        MAcc = np.amax(Acc);\n",
    "        MAcc_K = n;\n",
    "        print(MAcc)\n",
    "        print(MAcc_K)\n",
    "        \n",
    "    if MPre < np.amax(Pre):\n",
    "        MPre = np.amax(Pre);\n",
    "        MPre_K = n;\n",
    "        \n",
    "    if MRec < np.amax(Rec):\n",
    "        MRec = np.amax(Rec);\n",
    "        MRec_K = n;\n",
    "        \n",
    "    print(\"\\n\")\n",
    "           \n",
    "#Visualize the confusion matrix with a heatmap:\n",
    "class_names=[0,1] # name  of classes \n",
    "fig, ax = plt.subplots() \n",
    "tick_marks = np.arange(len(class_names)) \n",
    "plt.xticks(tick_marks, class_names) \n",
    "plt.yticks(tick_marks, class_names) \n",
    "# create heatmap \n",
    "sns.heatmap(pd.DataFrame(cnf_matrix), annot=True, cmap=\"YlGnBu\" ,fmt='g') \n",
    "ax.xaxis.set_label_position(\"top\") \n",
    "plt.tight_layout() \n",
    "plt.title('Confusion matrix for PCA with K=%i' %n, y=1.1) \n",
    "plt.ylabel('Actual label is:') \n",
    "plt.xlabel('Predicted label is:') "
   ]
  },
  {
   "cell_type": "code",
   "execution_count": 8,
   "id": "64d6a38b-8de2-4bfa-8e5a-291bc57e3b1d",
   "metadata": {},
   "outputs": [
    {
     "data": {
      "text/plain": [
       "[<matplotlib.lines.Line2D at 0x11c3b9472e0>]"
      ]
     },
     "execution_count": 8,
     "metadata": {},
     "output_type": "execute_result"
    },
    {
     "data": {
      "image/png": "[encoded data removed]",
      "text/plain": [
       "<Figure size 432x288 with 1 Axes>"
      ]
     },
     "metadata": {
      "needs_background": "light"
     },
     "output_type": "display_data"
    }
   ],
   "source": [
    "#Plot Accuracy over K principal components\n",
    "#print(K.shape)\n",
    "#print(Acc)\n",
    "#print(max(Acc))\n",
    "\n",
    "ax.xaxis.set_label_position(\"top\") \n",
    "plt.tight_layout() \n",
    "plt.title('Accuracy v.s. Number of Principal Components', y=1.1) \n",
    "plt.ylabel('Accuracy of Model (%)') \n",
    "plt.xlabel('Number of Principal Components') \n",
    "plt.plot(K, Acc)"
   ]
  },
  {
   "cell_type": "code",
   "execution_count": 9,
   "id": "67d128da-973a-499a-a3f0-d388c08d3322",
   "metadata": {},
   "outputs": [
    {
     "data": {
      "text/plain": [
       "[<matplotlib.lines.Line2D at 0x11c3b904340>]"
      ]
     },
     "execution_count": 9,
     "metadata": {},
     "output_type": "execute_result"
    },
    {
     "data": {
      "image/png": "[encoded data removed]",
      "text/plain": [
       "<Figure size 432x288 with 1 Axes>"
      ]
     },
     "metadata": {
      "needs_background": "light"
     },
     "output_type": "display_data"
    }
   ],
   "source": [
    "#Plot Precision over K principal components\n",
    "ax.xaxis.set_label_position(\"top\") \n",
    "plt.tight_layout() \n",
    "plt.title('Precision v.s. Number of Principal Components', y=1.1) \n",
    "plt.ylabel('Precision of Model (%)') \n",
    "plt.xlabel('Number of Principal Components') \n",
    "plt.plot(K, Pre)"
   ]
  },
  {
   "cell_type": "code",
   "execution_count": 10,
   "id": "6ee5a1b5-1685-4d90-9439-fa2a38974731",
   "metadata": {},
   "outputs": [
    {
     "data": {
      "text/plain": [
       "[<matplotlib.lines.Line2D at 0x11c3b0dd970>]"
      ]
     },
     "execution_count": 10,
     "metadata": {},
     "output_type": "execute_result"
    },
    {
     "data": {
      "image/png": "[encoded data removed]",
      "text/plain": [
       "<Figure size 432x288 with 1 Axes>"
      ]
     },
     "metadata": {
      "needs_background": "light"
     },
     "output_type": "display_data"
    }
   ],
   "source": [
    "#Plot Recall over K principal components\n",
    "ax.xaxis.set_label_position(\"top\") \n",
    "plt.tight_layout() \n",
    "plt.title('Recall v.s. Number of Principal Components', y=1.1) \n",
    "plt.ylabel('Recall of Model (%)') \n",
    "plt.xlabel('Number of Principal Components') \n",
    "plt.plot(K, Rec)"
   ]
  },
  {
   "cell_type": "code",
   "execution_count": 11,
   "id": "6bb8c6d0-21f5-4c4b-bb76-8382ff41b75b",
   "metadata": {},
   "outputs": [
    {
     "name": "stdout",
     "output_type": "stream",
     "text": [
      "Highest Accuracy is: 0.9649122807017544 . K =  30\n",
      "Highest Precision is: 0.9701492537313433 . K =  30\n",
      "Highest Recall is: 0.9701492537313433 . K =  30\n"
     ]
    }
   ],
   "source": [
    "#Highest metric results for the PCA over K Principal Components\n",
    "print(\"Highest Accuracy is:\",MAcc,\". K = \", MAcc_K) \n",
    "print(\"Highest Precision is:\",MPre,\". K = \", MPre_K) \n",
    "print(\"Highest Recall is:\",MRec,\". K = \", MRec_K) "
   ]
  },
  {
   "cell_type": "code",
   "execution_count": 12,
   "id": "c14032d0-b63d-456d-a5cb-dd4e35002709",
   "metadata": {},
   "outputs": [
    {
     "name": "stdout",
     "output_type": "stream",
     "text": [
      "[[43  4]\n",
      " [ 0 67]]\n",
      "Accuracy is: 0.9649122807017544\n",
      "Precision is: 0.9436619718309859\n",
      "Recall is: 1.0\n"
     ]
    },
    {
     "data": {
      "text/plain": [
       "Text(0.5, 257.44, 'Predicted label')"
      ]
     },
     "execution_count": 12,
     "metadata": {},
     "output_type": "execute_result"
    },
    {
     "data": {
      "image/png": "[encoded data removed]",
      "text/plain": [
       "<Figure size 432x288 with 2 Axes>"
      ]
     },
     "metadata": {
      "needs_background": "light"
     },
     "output_type": "display_data"
    }
   ],
   "source": [
    "#Problem 3:\n",
    "X = StandardScaler().fit_transform(breast_input)\n",
    "#X = breast_input\n",
    "Y = breast_labels\n",
    "lda = LinearDiscriminantAnalysis(n_components=1) \n",
    "lda_t = lda.fit_transform(X,Y) \n",
    "#print(lda_t)\n",
    "X_train,X_test,Y_train,Y_test = train_test_split(X,Y,test_size=0.2, random_state = RSTATE) \n",
    "lda.fit(X_train,Y_train) \n",
    "Y_pred = lda.predict(X_test) \n",
    "cnf_matrix = confusion_matrix(Y_test, Y_pred) \n",
    "print(cnf_matrix)\n",
    "print(\"Accuracy is:\",metrics.accuracy_score(Y_test, Y_pred)) \n",
    "print(\"Precision is:\",metrics.precision_score(Y_test, Y_pred)) \n",
    "print(\"Recall is:\",metrics.recall_score(Y_test, Y_pred)) \n",
    "\n",
    "#Plot confusion matrix\n",
    "class_names=[0,1] # name  of classes \n",
    "fig, ax = plt.subplots() \n",
    "tick_marks = np.arange(len(class_names)) \n",
    "plt.xticks(tick_marks, class_names) \n",
    "plt.yticks(tick_marks, class_names) \n",
    "# create heatmap \n",
    "sns.heatmap(pd.DataFrame(cnf_matrix), annot=True, cmap=\"YlGnBu\" ,fmt='g') \n",
    "ax.xaxis.set_label_position(\"top\") \n",
    "plt.tight_layout() \n",
    "plt.title('Confusion matrix for LDA Naive Bayes', y=1.1) \n",
    "plt.ylabel('Actual label') \n",
    "plt.xlabel('Predicted label') "
   ]
  },
  {
   "cell_type": "code",
   "execution_count": 13,
   "id": "d6a8f4e8-5dca-4a21-9106-ad085f0127ae",
   "metadata": {},
   "outputs": [
    {
     "name": "stdout",
     "output_type": "stream",
     "text": [
      "[[45  2]\n",
      " [ 1 66]]\n",
      "Accuracy is: 0.9736842105263158\n",
      "Precision is: 0.9705882352941176\n",
      "Recall is: 0.9850746268656716\n"
     ]
    }
   ],
   "source": [
    "#Problem 4:\n",
    "classifier = LogisticRegression(random_state=RSTATE) \n",
    "X = StandardScaler().fit_transform(breast_input)\n",
    "#X = breast_input\n",
    "Y = breast_labels\n",
    "lda = LinearDiscriminantAnalysis(n_components=1) \n",
    "lda_t = lda.fit_transform(X,Y) \n",
    "classifier.fit(lda_t,Y)\n",
    "#print(lda_t)\n",
    "X_train,X_test,Y_train,Y_test = train_test_split(lda_t,Y,test_size=0.2, random_state = RSTATE) \n",
    "#lda.fit(X_train,Y_train)  \n",
    "Y_pred = classifier.predict(X_test) \n",
    "cnf_matrix = confusion_matrix(Y_test, Y_pred) \n",
    "print(cnf_matrix)\n",
    "print(\"Accuracy is:\",metrics.accuracy_score(Y_test, Y_pred)) \n",
    "print(\"Precision is:\",metrics.precision_score(Y_test, Y_pred)) \n",
    "print(\"Recall is:\",metrics.recall_score(Y_test, Y_pred)) "
   ]
  },
  {
   "cell_type": "code",
   "execution_count": 14,
   "id": "939ab2b6-3b63-40ca-b48e-57d0c44211b2",
   "metadata": {},
   "outputs": [
    {
     "data": {
      "text/plain": [
       "Text(0.5, 257.44, 'Predicted label')"
      ]
     },
     "execution_count": 14,
     "metadata": {},
     "output_type": "execute_result"
    },
    {
     "data": {
      "image/png": "[encoded data removed]",
      "text/plain": [
       "<Figure size 432x288 with 2 Axes>"
      ]
     },
     "metadata": {
      "needs_background": "light"
     },
     "output_type": "display_data"
    }
   ],
   "source": [
    "class_names = [0,1]\n",
    "fig, ax = plt.subplots()\n",
    "tick_marks = np.arange(len(class_names))\n",
    "plt.xticks(tick_marks,class_names)\n",
    "plt.yticks(tick_marks,class_names)\n",
    "sns.heatmap(pd.DataFrame(cnf_matrix), annot = True, cmap = \"YlGnBu\",\n",
    "fmt = 'g')\n",
    "ax.xaxis.set_label_position(\"top\")\n",
    "plt.tight_layout()\n",
    "plt.title('Confusion matrix',y = 1.1)\n",
    "plt.ylabel('Actual label')\n",
    "plt.xlabel('Predicted label')"
   ]
  }
 ],
 "metadata": {
  "kernelspec": {
   "display_name": "Python 3",
   "language": "python",
   "name": "python3"
  },
  "language_info": {
   "codemirror_mode": {
    "name": "ipython",
    "version": 3
   },
   "file_extension": ".py",
   "mimetype": "text/x-python",
   "name": "python",
   "nbconvert_exporter": "python",
   "pygments_lexer": "ipython3",
   "version": "3.8.8"
  }
 },
 "nbformat": 4,
 "nbformat_minor": 5
}
